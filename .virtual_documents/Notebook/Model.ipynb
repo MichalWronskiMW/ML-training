





import pandas as pd
import numpy as np
import matplotlib.pyplot as plt
import seaborn as sns
import scipy.stats as stats
import statsmodels.api as sm

from sklearn.model_selection import train_test_split, KFold
from sklearn.metrics import r2_score as r2, mean_absolute_error as mae, root_mean_squared_error as rmse
from sklearn.linear_model import RidgeCV
from statsmodels.stats.outliers_influence import variance_inflation_factor as vif
from sklearn.preprocessing import StandardScaler

from My_ML_Functions import reg_cross_validate_model, plot_diagnostics

rentals_df = pd.read_csv("../Data/sf_clean.csv") 
rentals_df.head()





rentals_df.info()


rentals_df.describe().T





# Although hood_district seems to be a numeric columns, it is in fact a categorical one.
rentals_df['hood_district'] = rentals_df['hood_district'].astype('int').astype('object')
rentals_df['beds'] = rentals_df['beds'].astype('int')
rentals_df['bath'] = rentals_df['bath'].astype('int')








print("Descriptive statistics for the target variable:")
print(rentals_df['price'].describe())


plt.figure(figsize=(10, 6))
sns.histplot(rentals_df['price'], bins=30, kde=True, color='navy')
plt.title("Histogram of the target variable (price)")
plt.xlabel("Price")
plt.ylabel("Frequency")
plt.show()





plt.figure(figsize=(10, 4))
sns.boxplot(x=rentals_df['price'], color='navy')
plt.title("Boxplot of the target variable (price)")
plt.xlabel("Price")
plt.show()


plt.figure(figsize=(8, 6))
stats.probplot(rentals_df['price'], dist="norm", plot=plt)
plt.title("QQ Plot of the target variable (price)")
plt.show()


shapiro_stat, p_value = stats.shapiro(rentals_df['price'])

print("Shapiro-Wilk test statistic:", shapiro_stat)
print("Shapiro-Wilk p-value:", p_value)








correlation_matrix = rentals_df.corr(numeric_only=True)
plt.figure(figsize=(10, 8))

sns.heatmap(
    rentals_df.corr(numeric_only=True), 
    vmin=-1, 
    vmax=1, 
    cmap="coolwarm",
    annot=True
);

plt.title('Correlation Heatmap')
plt.show()





sns.pairplot(rentals_df[['price', 'sqft', 'beds', 'bath']], corner=True)
plt.show()





categorical_columns = rentals_df.select_dtypes(include=['object']).columns

for col in categorical_columns:
    print(f"Value counts for '{col}':")
    print(rentals_df[col].value_counts())
    print("\n")


for col in categorical_columns:
    plt.figure(figsize=(6, 4))
    sns.barplot(x=col, y='price', data=rentals_df, estimator=np.mean, color='navy')
    plt.title(f'Mean Price by {col}')
    plt.xlabel(col)
    plt.ylabel('Mean Price')
    plt.xticks(rotation=45)
    plt.tight_layout()
    plt.show()








laundry_mapping = {
    '(a) in-unit': 'in-unit',
    '(b) on-site': 'not-in-unit',
    '(c) no laundry': 'not-in-unit'
}

pets_mapping = {
    '(d) no pets': 'no pets',
    '(a) both': 'dogs & cats',
    '(b) dogs': 'dogs & cats',
    '(c) cats': 'cats'
}

parking_mapping = {
    '(a) valet': 'valet',
    '(d) no parking': 'no parking',
    '(b) protected': 'protected/off-street',
    '(c) off-street': 'protected/off-street'
}

housing_type_mapping = {
    '(c) multi': 'multi',
    '(a) single': 'single',
    '(b) double': 'double' 
}

hood_mapping = {
    1: 'North',
    2: 'West',
    3: 'West',
    4: 'Central',
    5: 'Central',
    6: 'Central',
    7: 'North',
    8: 'North',
    9: 'Central',
    10: 'South',
    11: 'South'
}

rentals_df['laundry'] = rentals_df['laundry'].map(laundry_mapping)
rentals_df['pets'] = rentals_df['pets'].map(pets_mapping)
rentals_df['parking'] = rentals_df['parking'].map(parking_mapping)
rentals_df['housing_type'] = rentals_df['housing_type'].map(housing_type_mapping)
rentals_df['hood_district'] = rentals_df['hood_district'].map(hood_mapping)


rentals_df = pd.get_dummies(rentals_df, drop_first=True, dtype=int)


rentals_df.head()








X = sm.add_constant(rentals_df.drop('price', axis=1))
y = rentals_df['price']





initial_model = reg_cross_validate_model(X, y, 5)


plot_diagnostics(initial_model)








y = np.log(y)


model1 = reg_cross_validate_model(X, y, 5)


plot_diagnostics(model1)








X = X.drop(['pets_dogs & cats', 'pets_no pets'], axis = 1)


model2 = reg_cross_validate_model(X, y, 5)


plot_diagnostics(model2)





pd.Series(
    [vif(X.values, i) for i in range(X.shape[1])],
    index=X.columns
)








X['bedrooms_to_bathrooms_ratio'] = X['beds'] / X['bath']


model3 = reg_cross_validate_model(X, y, 5)


pd.Series(
    [vif(X.values, i) for i in range(X.shape[1])],
    index=X.columns
)





X = X.drop('beds', axis=1)


model4 = reg_cross_validate_model(X, y, 5) 


plot_diagnostics(model4)








X_train, X_test, y_train, y_test = train_test_split(X, y, test_size=0.2, random_state=42)


alphas = 10 ** np.linspace(-3, 3, 100)

scaler = StandardScaler()
X_train_scaled = scaler.fit_transform(X_train.values)
X_test_scaled = scaler.transform(X_test.values)


ridge_model = RidgeCV(alphas=alphas, cv=5)
ridge_model.fit(X_train_scaled, y_train)


best_alpha = ridge_model.alpha_
print("Best alpha:", best_alpha)


print("Intercept:", ridge_model.intercept_)
coef_series = pd.Series(ridge_model.coef_, index=X.columns)
print()
print("Coefficients:")
print(coef_series)


score = ridge_model.score(X_test_scaled, y_test)
print(f"R^2: {score}")

# Getting predictions from the Ridge model
y_pred_ridge = ridge_model.predict(X_test_scaled)

mae_ridge = mae(y_test, y_pred_ridge)
rmse_ridge = rmse(y_test, y_pred_ridge)

print(f"Ridge Model MAE: {mae_ridge:.3f}")
print(f"Ridge Model RMSE: {rmse_ridge:.3f}")






