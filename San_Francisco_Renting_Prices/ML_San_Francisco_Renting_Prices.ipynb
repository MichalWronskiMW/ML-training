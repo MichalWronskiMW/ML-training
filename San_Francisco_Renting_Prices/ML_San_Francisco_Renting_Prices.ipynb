{
 "cells": [
  {
   "cell_type": "markdown",
   "id": "ab65c870",
   "metadata": {},
   "source": [
    "# San Francisco Renting Prices Regression Project"
   ]
  },
  {
   "cell_type": "markdown",
   "id": "9f476dde-b819-4a85-9d86-4fd34b30194e",
   "metadata": {},
   "source": [
    "## Importing packages and data"
   ]
  },
  {
   "cell_type": "code",
   "execution_count": 29,
   "id": "7cb398c6",
   "metadata": {},
   "outputs": [
    {
     "data": {
      "text/html": [
       "<div>\n",
       "<style scoped>\n",
       "    .dataframe tbody tr th:only-of-type {\n",
       "        vertical-align: middle;\n",
       "    }\n",
       "\n",
       "    .dataframe tbody tr th {\n",
       "        vertical-align: top;\n",
       "    }\n",
       "\n",
       "    .dataframe thead th {\n",
       "        text-align: right;\n",
       "    }\n",
       "</style>\n",
       "<table border=\"1\" class=\"dataframe\">\n",
       "  <thead>\n",
       "    <tr style=\"text-align: right;\">\n",
       "      <th></th>\n",
       "      <th>price</th>\n",
       "      <th>sqft</th>\n",
       "      <th>beds</th>\n",
       "      <th>bath</th>\n",
       "      <th>laundry</th>\n",
       "      <th>pets</th>\n",
       "      <th>housing_type</th>\n",
       "      <th>parking</th>\n",
       "      <th>hood_district</th>\n",
       "    </tr>\n",
       "  </thead>\n",
       "  <tbody>\n",
       "    <tr>\n",
       "      <th>0</th>\n",
       "      <td>6800</td>\n",
       "      <td>1600.0</td>\n",
       "      <td>2.0</td>\n",
       "      <td>2.0</td>\n",
       "      <td>(a) in-unit</td>\n",
       "      <td>(d) no pets</td>\n",
       "      <td>(c) multi</td>\n",
       "      <td>(b) protected</td>\n",
       "      <td>7.0</td>\n",
       "    </tr>\n",
       "    <tr>\n",
       "      <th>1</th>\n",
       "      <td>3500</td>\n",
       "      <td>550.0</td>\n",
       "      <td>1.0</td>\n",
       "      <td>1.0</td>\n",
       "      <td>(a) in-unit</td>\n",
       "      <td>(a) both</td>\n",
       "      <td>(c) multi</td>\n",
       "      <td>(b) protected</td>\n",
       "      <td>7.0</td>\n",
       "    </tr>\n",
       "    <tr>\n",
       "      <th>2</th>\n",
       "      <td>5100</td>\n",
       "      <td>1300.0</td>\n",
       "      <td>2.0</td>\n",
       "      <td>1.0</td>\n",
       "      <td>(a) in-unit</td>\n",
       "      <td>(a) both</td>\n",
       "      <td>(c) multi</td>\n",
       "      <td>(d) no parking</td>\n",
       "      <td>7.0</td>\n",
       "    </tr>\n",
       "    <tr>\n",
       "      <th>3</th>\n",
       "      <td>9000</td>\n",
       "      <td>3500.0</td>\n",
       "      <td>3.0</td>\n",
       "      <td>2.5</td>\n",
       "      <td>(a) in-unit</td>\n",
       "      <td>(d) no pets</td>\n",
       "      <td>(c) multi</td>\n",
       "      <td>(b) protected</td>\n",
       "      <td>7.0</td>\n",
       "    </tr>\n",
       "    <tr>\n",
       "      <th>4</th>\n",
       "      <td>3100</td>\n",
       "      <td>561.0</td>\n",
       "      <td>1.0</td>\n",
       "      <td>1.0</td>\n",
       "      <td>(c) no laundry</td>\n",
       "      <td>(a) both</td>\n",
       "      <td>(c) multi</td>\n",
       "      <td>(d) no parking</td>\n",
       "      <td>7.0</td>\n",
       "    </tr>\n",
       "  </tbody>\n",
       "</table>\n",
       "</div>"
      ],
      "text/plain": [
       "   price    sqft  beds  bath         laundry         pets housing_type  \\\n",
       "0   6800  1600.0   2.0   2.0     (a) in-unit  (d) no pets    (c) multi   \n",
       "1   3500   550.0   1.0   1.0     (a) in-unit     (a) both    (c) multi   \n",
       "2   5100  1300.0   2.0   1.0     (a) in-unit     (a) both    (c) multi   \n",
       "3   9000  3500.0   3.0   2.5     (a) in-unit  (d) no pets    (c) multi   \n",
       "4   3100   561.0   1.0   1.0  (c) no laundry     (a) both    (c) multi   \n",
       "\n",
       "          parking  hood_district  \n",
       "0   (b) protected            7.0  \n",
       "1   (b) protected            7.0  \n",
       "2  (d) no parking            7.0  \n",
       "3   (b) protected            7.0  \n",
       "4  (d) no parking            7.0  "
      ]
     },
     "execution_count": 29,
     "metadata": {},
     "output_type": "execute_result"
    }
   ],
   "source": [
    "import pandas as pd\n",
    "import numpy as np\n",
    "import matplotlib.pyplot as plt\n",
    "import seaborn as sns\n",
    "import scipy.stats as stats\n",
    "\n",
    "import statsmodels.api as sm\n",
    "from sklearn.model_selection import KFold\n",
    "from sklearn.metrics import r2_score as r2, mean_absolute_error as mae, mean_squared_error as mse\n",
    "\n",
    "rentals_df = pd.read_csv(\"sf_clean.csv\") \n",
    "rentals_df.head()"
   ]
  },
  {
   "cell_type": "markdown",
   "id": "71dcbc2d",
   "metadata": {},
   "source": [
    "### Data Dictionary\n",
    "\n",
    "1. Price: The price of the rental and our target variable\n",
    "2. sqft: The area in square feet of the rental\n",
    "3. beds: The number of bedrooms in the rental\n",
    "4. bath: The number of bathrooms in the rental\n",
    "5. laundry: Does the rental have a laundry machine inside the house, a shared laundry machine, or no laundry on site?\n",
    "6. pets: Does the rental allow pets? Cats only, dogs only or both cats and dogs?\n",
    "7. Housing type: Is the rental in a multi-unit building, a building with two units, or a stand alone house? \n",
    "8. Parking: Does the apartment off a parking space? No, protected in a garage, off-street in a parking lot, or valet service?\n",
    "9. Hood district: Which part of San Francisco is the apartment located?\n",
    "\n",
    "![image info](SFAR_map.png)"
   ]
  },
  {
   "cell_type": "code",
   "execution_count": 30,
   "id": "0498eeef",
   "metadata": {},
   "outputs": [
    {
     "name": "stdout",
     "output_type": "stream",
     "text": [
      "<class 'pandas.core.frame.DataFrame'>\n",
      "RangeIndex: 989 entries, 0 to 988\n",
      "Data columns (total 9 columns):\n",
      " #   Column         Non-Null Count  Dtype  \n",
      "---  ------         --------------  -----  \n",
      " 0   price          989 non-null    int64  \n",
      " 1   sqft           989 non-null    float64\n",
      " 2   beds           989 non-null    float64\n",
      " 3   bath           989 non-null    float64\n",
      " 4   laundry        989 non-null    object \n",
      " 5   pets           989 non-null    object \n",
      " 6   housing_type   989 non-null    object \n",
      " 7   parking        989 non-null    object \n",
      " 8   hood_district  989 non-null    float64\n",
      "dtypes: float64(4), int64(1), object(4)\n",
      "memory usage: 69.7+ KB\n"
     ]
    }
   ],
   "source": [
    "rentals_df.info()"
   ]
  },
  {
   "cell_type": "code",
   "execution_count": 16,
   "id": "e377fcea-423b-4a40-a8cb-f3207d19b309",
   "metadata": {},
   "outputs": [
    {
     "data": {
      "text/html": [
       "<div>\n",
       "<style scoped>\n",
       "    .dataframe tbody tr th:only-of-type {\n",
       "        vertical-align: middle;\n",
       "    }\n",
       "\n",
       "    .dataframe tbody tr th {\n",
       "        vertical-align: top;\n",
       "    }\n",
       "\n",
       "    .dataframe thead th {\n",
       "        text-align: right;\n",
       "    }\n",
       "</style>\n",
       "<table border=\"1\" class=\"dataframe\">\n",
       "  <thead>\n",
       "    <tr style=\"text-align: right;\">\n",
       "      <th></th>\n",
       "      <th>count</th>\n",
       "      <th>mean</th>\n",
       "      <th>std</th>\n",
       "      <th>min</th>\n",
       "      <th>25%</th>\n",
       "      <th>50%</th>\n",
       "      <th>75%</th>\n",
       "      <th>max</th>\n",
       "    </tr>\n",
       "  </thead>\n",
       "  <tbody>\n",
       "    <tr>\n",
       "      <th>price</th>\n",
       "      <td>989.0</td>\n",
       "      <td>3595.035389</td>\n",
       "      <td>1546.222670</td>\n",
       "      <td>750.0</td>\n",
       "      <td>2650.0</td>\n",
       "      <td>3300.0</td>\n",
       "      <td>4242.0</td>\n",
       "      <td>19000.0</td>\n",
       "    </tr>\n",
       "    <tr>\n",
       "      <th>sqft</th>\n",
       "      <td>989.0</td>\n",
       "      <td>976.765420</td>\n",
       "      <td>474.629798</td>\n",
       "      <td>150.0</td>\n",
       "      <td>650.0</td>\n",
       "      <td>900.0</td>\n",
       "      <td>1200.0</td>\n",
       "      <td>3500.0</td>\n",
       "    </tr>\n",
       "    <tr>\n",
       "      <th>beds</th>\n",
       "      <td>989.0</td>\n",
       "      <td>1.679474</td>\n",
       "      <td>1.076710</td>\n",
       "      <td>0.0</td>\n",
       "      <td>1.0</td>\n",
       "      <td>2.0</td>\n",
       "      <td>2.0</td>\n",
       "      <td>6.0</td>\n",
       "    </tr>\n",
       "    <tr>\n",
       "      <th>bath</th>\n",
       "      <td>989.0</td>\n",
       "      <td>1.390293</td>\n",
       "      <td>0.562714</td>\n",
       "      <td>1.0</td>\n",
       "      <td>1.0</td>\n",
       "      <td>1.0</td>\n",
       "      <td>2.0</td>\n",
       "      <td>4.0</td>\n",
       "    </tr>\n",
       "  </tbody>\n",
       "</table>\n",
       "</div>"
      ],
      "text/plain": [
       "       count         mean          std    min     25%     50%     75%      max\n",
       "price  989.0  3595.035389  1546.222670  750.0  2650.0  3300.0  4242.0  19000.0\n",
       "sqft   989.0   976.765420   474.629798  150.0   650.0   900.0  1200.0   3500.0\n",
       "beds   989.0     1.679474     1.076710    0.0     1.0     2.0     2.0      6.0\n",
       "bath   989.0     1.390293     0.562714    1.0     1.0     1.0     2.0      4.0"
      ]
     },
     "execution_count": 16,
     "metadata": {},
     "output_type": "execute_result"
    }
   ],
   "source": [
    "rentals_df.describe().T"
   ]
  },
  {
   "cell_type": "markdown",
   "id": "032de8ee-0a6a-4eda-9d82-aa02bc4dabe6",
   "metadata": {},
   "source": [
    "## Data Cleaning"
   ]
  },
  {
   "cell_type": "code",
   "execution_count": 17,
   "id": "ed33d3c0-8dee-425c-8f46-1e2a1f780d64",
   "metadata": {},
   "outputs": [],
   "source": [
    "# Although hood_district seems to be a numeric columns, it is in fact a categorical one.\n",
    "rentals_df['hood_district'] = rentals_df['hood_district'].astype('int').astype('object')\n",
    "rentals_df['beds'] = rentals_df['beds'].astype('int')\n",
    "rentals_df['bath'] = rentals_df['bath'].astype('int')"
   ]
  },
  {
   "cell_type": "markdown",
   "id": "f9c7b82d",
   "metadata": {},
   "source": [
    "## EDA"
   ]
  },
  {
   "cell_type": "markdown",
   "id": "cc30b982-0e07-4fb4-a722-6324aabc70e2",
   "metadata": {},
   "source": [
    "### Target"
   ]
  },
  {
   "cell_type": "code",
   "execution_count": 20,
   "id": "614e0a69-1e08-4848-bc75-97d57a46357b",
   "metadata": {
    "tags": []
   },
   "outputs": [
    {
     "name": "stdout",
     "output_type": "stream",
     "text": [
      "Descriptive statistics for the target variable:\n",
      "count      989.000000\n",
      "mean      3595.035389\n",
      "std       1546.222670\n",
      "min        750.000000\n",
      "25%       2650.000000\n",
      "50%       3300.000000\n",
      "75%       4242.000000\n",
      "max      19000.000000\n",
      "Name: price, dtype: float64\n"
     ]
    }
   ],
   "source": [
    "print(\"Descriptive statistics for the target variable:\")\n",
    "print(rentals_df['price'].describe())"
   ]
  },
  {
   "cell_type": "code",
   "execution_count": 23,
   "id": "bcd8fc64-7139-4a04-a866-36bab0fe2e20",
   "metadata": {},
   "outputs": [
    {
     "data": {
      "image/png": "[encoded data removed]",
      "text/plain": [
       "<Figure size 720x432 with 1 Axes>"
      ]
     },
     "metadata": {
      "needs_background": "light"
     },
     "output_type": "display_data"
    }
   ],
   "source": [
    "plt.figure(figsize=(10, 6))\n",
    "sns.histplot(rentals_df['price'], bins=30, kde=True, color='navy')\n",
    "plt.title(\"Histogram of the target variable (price)\")\n",
    "plt.xlabel(\"Price\")\n",
    "plt.ylabel(\"Frequency\")\n",
    "plt.show()"
   ]
  },
  {
   "cell_type": "code",
   "execution_count": 26,
   "id": "83ff0785-4c98-4c83-a412-d552075a1f45",
   "metadata": {},
   "outputs": [
    {
     "data": {
      "image/png": "[encoded data removed]",
      "text/plain": [
       "<Figure size 720x288 with 1 Axes>"
      ]
     },
     "metadata": {
      "needs_background": "light"
     },
     "output_type": "display_data"
    }
   ],
   "source": [
    "plt.figure(figsize=(10, 4))\n",
    "sns.boxplot(x=rentals_df['price'], color='navy')\n",
    "plt.title(\"Boxplot of the target variable (price)\")\n",
    "plt.xlabel(\"Price\")\n",
    "plt.show()"
   ]
  },
  {
   "cell_type": "code",
   "execution_count": 30,
   "id": "75654f5a-ddec-4f89-8534-10a10b886cff",
   "metadata": {},
   "outputs": [
    {
     "data": {
      "image/png": "[encoded data removed]",
      "text/plain": [
       "<Figure size 576x432 with 1 Axes>"
      ]
     },
     "metadata": {
      "needs_background": "light"
     },
     "output_type": "display_data"
    }
   ],
   "source": [
    "plt.figure(figsize=(8, 6))\n",
    "stats.probplot(rentals_df['price'], dist=\"norm\", plot=plt)\n",
    "plt.title(\"QQ Plot of the target variable (price)\")\n",
    "plt.show()"
   ]
  },
  {
   "cell_type": "code",
   "execution_count": 31,
   "id": "8910e415-c11a-466c-ad97-6aa3d919e9b0",
   "metadata": {},
   "outputs": [
    {
     "name": "stdout",
     "output_type": "stream",
     "text": [
      "Shapiro-Wilk test statistic: 0.831337407916176\n",
      "Shapiro-Wilk p-value: 4.811954701053989e-31\n"
     ]
    }
   ],
   "source": [
    "shapiro_stat, p_value = stats.shapiro(rentals_df['price'])\n",
    "\n",
    "print(\"Shapiro-Wilk test statistic:\", shapiro_stat)\n",
    "print(\"Shapiro-Wilk p-value:\", p_value)"
   ]
  },
  {
   "cell_type": "markdown",
   "id": "9929170f-3555-47ec-9a1f-ea94386560fa",
   "metadata": {},
   "source": [
    "The Shapiro-Wilk test returned a p-value of 0.000 (p < 0.05), leading to rejection of the null hypothesis of normality. This indicates that the 'price' variable is not normally distributed, and a transformation (e.g., logarithmic) might be considered."
   ]
  },
  {
   "cell_type": "markdown",
   "id": "00952509",
   "metadata": {},
   "source": [
    "## Feature Engineering\n"
   ]
  },
  {
   "cell_type": "code",
   "execution_count": null,
   "id": "5415cbae",
   "metadata": {},
   "outputs": [],
   "source": []
  },
  {
   "cell_type": "markdown",
   "id": "50752f8e",
   "metadata": {},
   "source": [
    "## Data Splitting"
   ]
  },
  {
   "cell_type": "code",
   "execution_count": 21,
   "id": "68a66cf2",
   "metadata": {},
   "outputs": [],
   "source": []
  },
  {
   "cell_type": "markdown",
   "id": "0117d1e6",
   "metadata": {},
   "source": [
    "## Model Fitting & Validation Scoring"
   ]
  },
  {
   "cell_type": "code",
   "execution_count": null,
   "id": "a43a2df6",
   "metadata": {},
   "outputs": [],
   "source": []
  },
  {
   "cell_type": "markdown",
   "id": "5cd00418",
   "metadata": {},
   "source": [
    "## Assumptions Checking"
   ]
  },
  {
   "cell_type": "code",
   "execution_count": null,
   "id": "2ce961f6",
   "metadata": {},
   "outputs": [],
   "source": []
  },
  {
   "cell_type": "markdown",
   "id": "29894141",
   "metadata": {},
   "source": [
    "## Final Model Fit & Test Scoring"
   ]
  },
  {
   "cell_type": "code",
   "execution_count": null,
   "id": "aefd0a01",
   "metadata": {},
   "outputs": [],
   "source": []
  }
 ],
 "metadata": {
  "kernelspec": {
   "display_name": "Python 3 (ipykernel)",
   "language": "python",
   "name": "python3"
  },
  "language_info": {
   "codemirror_mode": {
    "name": "ipython",
    "version": 3
   },
   "file_extension": ".py",
   "mimetype": "text/x-python",
   "name": "python",
   "nbconvert_exporter": "python",
   "pygments_lexer": "ipython3",
   "version": "3.9.12"
  }
 },
 "nbformat": 4,
 "nbformat_minor": 5
}
