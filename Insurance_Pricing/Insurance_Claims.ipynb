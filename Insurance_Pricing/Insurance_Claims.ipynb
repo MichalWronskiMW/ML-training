{
 "cells": [
  {
   "cell_type": "markdown",
   "id": "d519023a-abd5-42f4-8868-955258be9e86",
   "metadata": {},
   "source": [
    "## Importing packages and data"
   ]
  },
  {
   "cell_type": "code",
   "execution_count": 1,
   "id": "21f979e1-e093-4759-8d53-090af95abf2e",
   "metadata": {},
   "outputs": [],
   "source": [
    "import numpy as np\n",
    "import pandas as pd\n",
    "import matplotlib.pyplot as plt\n",
    "import seaborn as sns"
   ]
  },
  {
   "cell_type": "code",
   "execution_count": 2,
   "id": "25d4be36-14ea-4a82-ac81-c9264e603afe",
   "metadata": {},
   "outputs": [
    {
     "data": {
      "text/html": [
       "<div>\n",
       "<style scoped>\n",
       "    .dataframe tbody tr th:only-of-type {\n",
       "        vertical-align: middle;\n",
       "    }\n",
       "\n",
       "    .dataframe tbody tr th {\n",
       "        vertical-align: top;\n",
       "    }\n",
       "\n",
       "    .dataframe thead th {\n",
       "        text-align: right;\n",
       "    }\n",
       "</style>\n",
       "<table border=\"1\" class=\"dataframe\">\n",
       "  <thead>\n",
       "    <tr style=\"text-align: right;\">\n",
       "      <th></th>\n",
       "      <th>IDpol</th>\n",
       "      <th>ClaimNb</th>\n",
       "      <th>Exposure</th>\n",
       "      <th>VehPower</th>\n",
       "      <th>VehAge</th>\n",
       "      <th>DrivAge</th>\n",
       "      <th>BonusMalus</th>\n",
       "      <th>VehBrand</th>\n",
       "      <th>VehGas</th>\n",
       "      <th>Area</th>\n",
       "      <th>Density</th>\n",
       "      <th>Region</th>\n",
       "    </tr>\n",
       "  </thead>\n",
       "  <tbody>\n",
       "    <tr>\n",
       "      <th>0</th>\n",
       "      <td>1.0</td>\n",
       "      <td>1</td>\n",
       "      <td>0.10</td>\n",
       "      <td>5</td>\n",
       "      <td>0</td>\n",
       "      <td>55</td>\n",
       "      <td>50</td>\n",
       "      <td>B12</td>\n",
       "      <td>Regular</td>\n",
       "      <td>D</td>\n",
       "      <td>1217</td>\n",
       "      <td>Rhone-Alpes</td>\n",
       "    </tr>\n",
       "    <tr>\n",
       "      <th>1</th>\n",
       "      <td>3.0</td>\n",
       "      <td>1</td>\n",
       "      <td>0.77</td>\n",
       "      <td>5</td>\n",
       "      <td>0</td>\n",
       "      <td>55</td>\n",
       "      <td>50</td>\n",
       "      <td>B12</td>\n",
       "      <td>Regular</td>\n",
       "      <td>D</td>\n",
       "      <td>1217</td>\n",
       "      <td>Rhone-Alpes</td>\n",
       "    </tr>\n",
       "    <tr>\n",
       "      <th>2</th>\n",
       "      <td>5.0</td>\n",
       "      <td>1</td>\n",
       "      <td>0.75</td>\n",
       "      <td>6</td>\n",
       "      <td>2</td>\n",
       "      <td>52</td>\n",
       "      <td>50</td>\n",
       "      <td>B12</td>\n",
       "      <td>Diesel</td>\n",
       "      <td>B</td>\n",
       "      <td>54</td>\n",
       "      <td>Picardie</td>\n",
       "    </tr>\n",
       "    <tr>\n",
       "      <th>3</th>\n",
       "      <td>10.0</td>\n",
       "      <td>1</td>\n",
       "      <td>0.09</td>\n",
       "      <td>7</td>\n",
       "      <td>0</td>\n",
       "      <td>46</td>\n",
       "      <td>50</td>\n",
       "      <td>B12</td>\n",
       "      <td>Diesel</td>\n",
       "      <td>B</td>\n",
       "      <td>76</td>\n",
       "      <td>Aquitaine</td>\n",
       "    </tr>\n",
       "    <tr>\n",
       "      <th>4</th>\n",
       "      <td>11.0</td>\n",
       "      <td>1</td>\n",
       "      <td>0.84</td>\n",
       "      <td>7</td>\n",
       "      <td>0</td>\n",
       "      <td>46</td>\n",
       "      <td>50</td>\n",
       "      <td>B12</td>\n",
       "      <td>Diesel</td>\n",
       "      <td>B</td>\n",
       "      <td>76</td>\n",
       "      <td>Aquitaine</td>\n",
       "    </tr>\n",
       "  </tbody>\n",
       "</table>\n",
       "</div>"
      ],
      "text/plain": [
       "   IDpol  ClaimNb  Exposure  VehPower  VehAge  DrivAge  BonusMalus VehBrand  \\\n",
       "0    1.0        1      0.10         5       0       55          50      B12   \n",
       "1    3.0        1      0.77         5       0       55          50      B12   \n",
       "2    5.0        1      0.75         6       2       52          50      B12   \n",
       "3   10.0        1      0.09         7       0       46          50      B12   \n",
       "4   11.0        1      0.84         7       0       46          50      B12   \n",
       "\n",
       "    VehGas Area  Density       Region  \n",
       "0  Regular    D     1217  Rhone-Alpes  \n",
       "1  Regular    D     1217  Rhone-Alpes  \n",
       "2   Diesel    B       54     Picardie  \n",
       "3   Diesel    B       76    Aquitaine  \n",
       "4   Diesel    B       76    Aquitaine  "
      ]
     },
     "execution_count": 2,
     "metadata": {},
     "output_type": "execute_result"
    }
   ],
   "source": [
    "freq_data = pd.read_csv(r'freMTPL2freq.csv')\n",
    "freq_data.head()"
   ]
  },
  {
   "cell_type": "code",
   "execution_count": 5,
   "id": "d4ac2b6e-785b-4807-a038-900885510788",
   "metadata": {},
   "outputs": [
    {
     "data": {
      "text/html": [
       "<div>\n",
       "<style scoped>\n",
       "    .dataframe tbody tr th:only-of-type {\n",
       "        vertical-align: middle;\n",
       "    }\n",
       "\n",
       "    .dataframe tbody tr th {\n",
       "        vertical-align: top;\n",
       "    }\n",
       "\n",
       "    .dataframe thead th {\n",
       "        text-align: right;\n",
       "    }\n",
       "</style>\n",
       "<table border=\"1\" class=\"dataframe\">\n",
       "  <thead>\n",
       "    <tr style=\"text-align: right;\">\n",
       "      <th></th>\n",
       "      <th>IDpol</th>\n",
       "      <th>ClaimAmount</th>\n",
       "    </tr>\n",
       "  </thead>\n",
       "  <tbody>\n",
       "    <tr>\n",
       "      <th>0</th>\n",
       "      <td>1552</td>\n",
       "      <td>995.20</td>\n",
       "    </tr>\n",
       "    <tr>\n",
       "      <th>1</th>\n",
       "      <td>1010996</td>\n",
       "      <td>1128.12</td>\n",
       "    </tr>\n",
       "    <tr>\n",
       "      <th>2</th>\n",
       "      <td>4024277</td>\n",
       "      <td>1851.11</td>\n",
       "    </tr>\n",
       "    <tr>\n",
       "      <th>3</th>\n",
       "      <td>4007252</td>\n",
       "      <td>1204.00</td>\n",
       "    </tr>\n",
       "    <tr>\n",
       "      <th>4</th>\n",
       "      <td>4046424</td>\n",
       "      <td>1204.00</td>\n",
       "    </tr>\n",
       "  </tbody>\n",
       "</table>\n",
       "</div>"
      ],
      "text/plain": [
       "     IDpol  ClaimAmount\n",
       "0     1552       995.20\n",
       "1  1010996      1128.12\n",
       "2  4024277      1851.11\n",
       "3  4007252      1204.00\n",
       "4  4046424      1204.00"
      ]
     },
     "execution_count": 5,
     "metadata": {},
     "output_type": "execute_result"
    }
   ],
   "source": [
    "sev_data = pd.read_csv(r'freMTPL2sev.csv')\n",
    "sev_data.head()"
   ]
  },
  {
   "cell_type": "code",
   "execution_count": 7,
   "id": "20cfd557-619b-4013-9a57-258e337301b7",
   "metadata": {},
   "outputs": [
    {
     "data": {
      "text/html": [
       "<div>\n",
       "<style scoped>\n",
       "    .dataframe tbody tr th:only-of-type {\n",
       "        vertical-align: middle;\n",
       "    }\n",
       "\n",
       "    .dataframe tbody tr th {\n",
       "        vertical-align: top;\n",
       "    }\n",
       "\n",
       "    .dataframe thead th {\n",
       "        text-align: right;\n",
       "    }\n",
       "</style>\n",
       "<table border=\"1\" class=\"dataframe\">\n",
       "  <thead>\n",
       "    <tr style=\"text-align: right;\">\n",
       "      <th></th>\n",
       "      <th>IDpol</th>\n",
       "      <th>ClaimCount</th>\n",
       "      <th>TotalClaimAmount</th>\n",
       "    </tr>\n",
       "  </thead>\n",
       "  <tbody>\n",
       "    <tr>\n",
       "      <th>0</th>\n",
       "      <td>139</td>\n",
       "      <td>1</td>\n",
       "      <td>303.00</td>\n",
       "    </tr>\n",
       "    <tr>\n",
       "      <th>1</th>\n",
       "      <td>190</td>\n",
       "      <td>1</td>\n",
       "      <td>1981.84</td>\n",
       "    </tr>\n",
       "    <tr>\n",
       "      <th>2</th>\n",
       "      <td>414</td>\n",
       "      <td>1</td>\n",
       "      <td>1456.55</td>\n",
       "    </tr>\n",
       "    <tr>\n",
       "      <th>3</th>\n",
       "      <td>424</td>\n",
       "      <td>2</td>\n",
       "      <td>10834.00</td>\n",
       "    </tr>\n",
       "    <tr>\n",
       "      <th>4</th>\n",
       "      <td>463</td>\n",
       "      <td>1</td>\n",
       "      <td>3986.67</td>\n",
       "    </tr>\n",
       "  </tbody>\n",
       "</table>\n",
       "</div>"
      ],
      "text/plain": [
       "   IDpol  ClaimCount  TotalClaimAmount\n",
       "0    139           1            303.00\n",
       "1    190           1           1981.84\n",
       "2    414           1           1456.55\n",
       "3    424           2          10834.00\n",
       "4    463           1           3986.67"
      ]
     },
     "execution_count": 7,
     "metadata": {},
     "output_type": "execute_result"
    }
   ],
   "source": [
    "sev_grouped = sev_data.groupby(\"IDpol\").agg(\n",
    "    ClaimCount=(\"ClaimAmount\", \"count\"),  # Liczba zgłoszeń dla danego ID\n",
    "    TotalClaimAmount=(\"ClaimAmount\", \"sum\")  # Suma wartości zgłoszeń\n",
    ").reset_index()\n",
    "\n",
    "sev_grouped.head()\n"
   ]
  },
  {
   "cell_type": "code",
   "execution_count": 9,
   "id": "68ad527a-0428-4fac-9f3f-2e90f3744eb5",
   "metadata": {},
   "outputs": [
    {
     "name": "stdout",
     "output_type": "stream",
     "text": [
      "<class 'pandas.core.frame.DataFrame'>\n",
      "RangeIndex: 678013 entries, 0 to 678012\n",
      "Data columns (total 12 columns):\n",
      " #   Column      Non-Null Count   Dtype  \n",
      "---  ------      --------------   -----  \n",
      " 0   IDpol       678013 non-null  float64\n",
      " 1   ClaimNb     678013 non-null  int64  \n",
      " 2   Exposure    678013 non-null  float64\n",
      " 3   VehPower    678013 non-null  int64  \n",
      " 4   VehAge      678013 non-null  int64  \n",
      " 5   DrivAge     678013 non-null  int64  \n",
      " 6   BonusMalus  678013 non-null  int64  \n",
      " 7   VehBrand    678013 non-null  object \n",
      " 8   VehGas      678013 non-null  object \n",
      " 9   Area        678013 non-null  object \n",
      " 10  Density     678013 non-null  int64  \n",
      " 11  Region      678013 non-null  object \n",
      "dtypes: float64(2), int64(6), object(4)\n",
      "memory usage: 62.1+ MB\n"
     ]
    }
   ],
   "source": [
    "freq_data.info()"
   ]
  },
  {
   "cell_type": "code",
   "execution_count": 11,
   "id": "c8971512-8c31-4ba1-813b-e7bce59690af",
   "metadata": {},
   "outputs": [],
   "source": [
    "freq_data['IDpol'] = freq_data['IDpol'].astype('int')"
   ]
  },
  {
   "cell_type": "code",
   "execution_count": 16,
   "id": "97440aed-6ab9-4a66-8c66-8e8816c12596",
   "metadata": {},
   "outputs": [
    {
     "name": "stdout",
     "output_type": "stream",
     "text": [
      "<class 'pandas.core.frame.DataFrame'>\n",
      "RangeIndex: 26639 entries, 0 to 26638\n",
      "Data columns (total 2 columns):\n",
      " #   Column       Non-Null Count  Dtype  \n",
      "---  ------       --------------  -----  \n",
      " 0   IDpol        26639 non-null  int64  \n",
      " 1   ClaimAmount  26639 non-null  float64\n",
      "dtypes: float64(1), int64(1)\n",
      "memory usage: 416.4 KB\n"
     ]
    }
   ],
   "source": [
    "sev_data.info()"
   ]
  },
  {
   "cell_type": "markdown",
   "id": "02250f30-fcd0-475e-9127-06750c40bd2c",
   "metadata": {},
   "source": [
    "## Exploratory Data Analysis"
   ]
  },
  {
   "cell_type": "code",
   "execution_count": null,
   "id": "f2543c05-3c4e-41f2-bc6b-f256e8393e13",
   "metadata": {},
   "outputs": [],
   "source": [
    "sns.set_style(\"ticks\")\n",
    "\n",
    "plt.figure(figsize=(10, 6))\n",
    "ax = sns.histplot(freq_data[\"ClaimNb\"], bins=range(0, freq_data[\"ClaimNb\"].max() + 1), kde=False, color=\"navy\")\n",
    "\n",
    "plt.title(\"Histogram of Claim Counts (ClaimNb)\", fontsize=14)\n",
    "plt.xlabel(\"Number of Claims\", fontsize=12)\n",
    "plt.ylabel(\"Number of Policies\", fontsize=12)\n",
    "plt.xticks(range(0, freq_data[\"ClaimNb\"].max() + 1))\n",
    "\n",
    "sns.despine()\n",
    "\n",
    "plt.show()"
   ]
  },
  {
   "cell_type": "code",
   "execution_count": 34,
   "id": "db7cf1af-3be9-4868-996e-9f189ac0d8c5",
   "metadata": {},
   "outputs": [
    {
     "data": {
      "text/plain": [
       "ClaimNb\n",
       "0     643953\n",
       "1      32178\n",
       "2       1784\n",
       "3         82\n",
       "4          7\n",
       "5          2\n",
       "6          1\n",
       "8          1\n",
       "9          1\n",
       "11         3\n",
       "16         1\n",
       "Name: ClaimNb, dtype: int64"
      ]
     },
     "execution_count": 34,
     "metadata": {},
     "output_type": "execute_result"
    }
   ],
   "source": [
    "freq_data.groupby('ClaimNb')['ClaimNb'].count()"
   ]
  },
  {
   "cell_type": "code",
   "execution_count": 24,
   "id": "9c950449-b66f-4b3e-aed8-9bddee669b57",
   "metadata": {},
   "outputs": [
    {
     "name": "stdout",
     "output_type": "stream",
     "text": [
      "   IDpol  ClaimCount  TotalClaimAmount\n",
      "0    139           1            303.00\n",
      "1    190           1           1981.84\n",
      "2    414           1           1456.55\n",
      "3    424           2          10834.00\n",
      "4    463           1           3986.67\n"
     ]
    }
   ],
   "source": [
    "sev_grouped = sev_data.groupby(\"IDpol\").agg(\n",
    "    ClaimCount=(\"ClaimAmount\", \"count\"),  \n",
    "    TotalClaimAmount=(\"ClaimAmount\", \"sum\") \n",
    ").reset_index()\n",
    "\n",
    "print(sev_grouped.head())"
   ]
  },
  {
   "cell_type": "code",
   "execution_count": null,
   "id": "f4b0c969-d102-4571-9627-5f42273fc8d1",
   "metadata": {},
   "outputs": [],
   "source": []
  }
 ],
 "metadata": {
  "kernelspec": {
   "display_name": "Python [conda env:base] *",
   "language": "python",
   "name": "conda-base-py"
  },
  "language_info": {
   "codemirror_mode": {
    "name": "ipython",
    "version": 3
   },
   "file_extension": ".py",
   "mimetype": "text/x-python",
   "name": "python",
   "nbconvert_exporter": "python",
   "pygments_lexer": "ipython3",
   "version": "3.12.7"
  }
 },
 "nbformat": 4,
 "nbformat_minor": 5
}
